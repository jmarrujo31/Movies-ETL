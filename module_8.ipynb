{
 "cells": [
  {
   "cell_type": "code",
   "execution_count": 5,
   "id": "5e5354b8-e080-4267-b748-aac7164785bf",
   "metadata": {},
   "outputs": [],
   "source": [
    "import json\n",
    "import pandas as pd\n",
    "import numpy as np"
   ]
  },
  {
   "cell_type": "code",
   "execution_count": 6,
   "id": "bcf219ec-f72b-41c1-a2c9-48f42110219f",
   "metadata": {},
   "outputs": [],
   "source": [
    "file_dir = '../Movies-ETL'"
   ]
  },
  {
   "cell_type": "code",
   "execution_count": 7,
   "id": "fea18146-811c-4041-a359-2f466a58733c",
   "metadata": {},
   "outputs": [
    {
     "data": {
      "text/plain": [
       "'../Movies-ETL'"
      ]
     },
     "execution_count": 7,
     "metadata": {},
     "output_type": "execute_result"
    }
   ],
   "source": [
    "f'{file_dir}'"
   ]
  },
  {
   "cell_type": "code",
   "execution_count": 8,
   "id": "9393d899-d56d-41dc-a72e-a0e692c4b7fd",
   "metadata": {},
   "outputs": [],
   "source": [
    "with open(f'{file_dir}/wikipedia-movies.json', mode='r') as file:\n",
    "    wiki_movies_raw = json.load(file)"
   ]
  },
  {
   "cell_type": "code",
   "execution_count": 9,
   "id": "df979882-c6ec-40c4-b326-e7694eb90e40",
   "metadata": {},
   "outputs": [
    {
     "data": {
      "text/plain": [
       "7311"
      ]
     },
     "execution_count": 9,
     "metadata": {},
     "output_type": "execute_result"
    }
   ],
   "source": [
    "len(wiki_movies_raw)"
   ]
  },
  {
   "cell_type": "code",
   "execution_count": 10,
   "id": "91ea5dd2-c198-4820-b678-c8e2a04deb93",
   "metadata": {},
   "outputs": [],
   "source": [
    "# First 5 records\n",
    "#wiki_movies_raw[:5]\n",
    "\n",
    "# Last 5 records\n",
    "#wiki_movies_raw[-5:]\n",
    "\n",
    "# Some records in the middle\n",
    "#wiki_movies_raw[3600:3605]"
   ]
  },
  {
   "cell_type": "code",
   "execution_count": 11,
   "id": "9991e854-1fcf-43d1-94bc-6f34b96f13af",
   "metadata": {},
   "outputs": [],
   "source": [
    "wiki_movies_df = pd.DataFrame(wiki_movies_raw)\n",
    "#wiki_movies_df.head(10)\n",
    "#wiki_movies_df.columns.to_list()"
   ]
  },
  {
   "cell_type": "code",
   "execution_count": 12,
   "id": "0acecde5-0370-434c-b18c-41b8879af0fd",
   "metadata": {},
   "outputs": [
    {
     "data": {
      "text/plain": [
       "7076"
      ]
     },
     "execution_count": 12,
     "metadata": {},
     "output_type": "execute_result"
    }
   ],
   "source": [
    "wiki_movies = [movie for movie in wiki_movies_raw\n",
    "               if ('Director' in movie or 'Directed by' in movie)\n",
    "                   and 'imdb_link' in movie\n",
    "                   and 'No. of episodes' not in movie]\n",
    "len(wiki_movies)"
   ]
  },
  {
   "cell_type": "code",
   "execution_count": 13,
   "id": "4afb6863-6407-47ec-9707-3a66d6a6fda3",
   "metadata": {},
   "outputs": [],
   "source": [
    "wiki_df = pd.DataFrame(wiki_movies)\n",
    "#wiki_df.head()"
   ]
  },
  {
   "cell_type": "code",
   "execution_count": 14,
   "id": "284b8d00-3885-43ed-ae08-fdce217ad100",
   "metadata": {},
   "outputs": [],
   "source": [
    "wiki_movies_clean_df = pd.DataFrame(wiki_movies)\n",
    "#wiki_movies_clean_df.columns.to_list()"
   ]
  },
  {
   "cell_type": "code",
   "execution_count": 27,
   "id": "a25ed650-65fb-445d-80f5-0b0cd6415b4b",
   "metadata": {},
   "outputs": [],
   "source": [
    "def clean_movie(movie):\n",
    "    movie = dict(movie) #create a non-destructive copy\n",
    "    alt_titles = {}\n",
    "     # combine alternate titles into one list\n",
    "    for key in ['Also known as','Arabic','Cantonese','Chinese','French',\n",
    "                'Hangul','Hebrew','Hepburn','Japanese','Literally',\n",
    "                'Mandarin','McCune–Reischauer','Original title','Polish',\n",
    "                'Revised Romanization','Romanized','Russian',\n",
    "                'Simplified','Traditional','Yiddish']:\n",
    "        if key in movie:\n",
    "            alt_titles[key] = movie[key]\n",
    "            movie.pop(key)\n",
    "    if len(alt_titles) > 0:\n",
    "        movie['alt_titles'] = alt_titles\n",
    "        \n",
    "     # merge column names\n",
    "    def change_column_name(old_name, new_name):\n",
    "        if old_name in movie:\n",
    "            movie[new_name] = movie.pop(old_name)\n",
    "    change_column_name('Adaptation by', 'Writer(s)')\n",
    "    change_column_name('Country of origin', 'Country')\n",
    "    change_column_name('Directed by', 'Director')\n",
    "    change_column_name('Distributed by', 'Distributor')\n",
    "    change_column_name('Edited by', 'Editor(s)')\n",
    "    change_column_name('Length', 'Running time')\n",
    "    change_column_name('Original release', 'Release date')\n",
    "    change_column_name('Music by', 'Composer(s)')\n",
    "    change_column_name('Produced by', 'Producer(s)')\n",
    "    change_column_name('Producer', 'Producer(s)')\n",
    "    change_column_name('Productioncompanies ', 'Production company(s)')\n",
    "    change_column_name('Productioncompany ', 'Production company(s)')\n",
    "    change_column_name('Released', 'Release Date')\n",
    "    change_column_name('Release Date', 'Release date')\n",
    "    change_column_name('Screen story by', 'Writer(s)')\n",
    "    change_column_name('Screenplay by', 'Writer(s)')\n",
    "    change_column_name('Story by', 'Writer(s)')\n",
    "    change_column_name('Theme music composer', 'Composer(s)')\n",
    "    change_column_name('Written by', 'Writer(s)')\n",
    "            \n",
    "    return movie"
   ]
  },
  {
   "cell_type": "code",
   "execution_count": 28,
   "id": "eb8fb5de",
   "metadata": {},
   "outputs": [],
   "source": [
    "#wiki_movies_df[wiki_movies_df['Arabic'].notnull()]['url']\n",
    "#sorted(wiki_movies_df.columns.tolist())\n",
    "#wiki_movies_df"
   ]
  },
  {
   "cell_type": "code",
   "execution_count": 35,
   "id": "ed8c474d-56fe-4ce5-a0cd-00150173ed04",
   "metadata": {},
   "outputs": [
    {
     "data": {
      "text/plain": [
       "['Adaptation by',\n",
       " 'Animation by',\n",
       " 'Audio format',\n",
       " 'Based on',\n",
       " 'Box office',\n",
       " 'Budget',\n",
       " 'Cinematography',\n",
       " 'Color process',\n",
       " 'Composer(s)',\n",
       " 'Country',\n",
       " 'Country of origin',\n",
       " 'Created by',\n",
       " 'Directed by',\n",
       " 'Director',\n",
       " 'Distributed by',\n",
       " 'Distributor',\n",
       " 'Edited by',\n",
       " 'Editor(s)',\n",
       " 'Executive producer(s)',\n",
       " 'Followed by',\n",
       " 'Genre',\n",
       " 'Label',\n",
       " 'Language',\n",
       " 'Length',\n",
       " 'Music by',\n",
       " 'Narrated by',\n",
       " 'Original language(s)',\n",
       " 'Original network',\n",
       " 'Original release',\n",
       " 'Picture format',\n",
       " 'Preceded by',\n",
       " 'Produced by',\n",
       " 'Producer',\n",
       " 'Producer(s)',\n",
       " 'Production company(s)',\n",
       " 'Production location(s)',\n",
       " 'Productioncompanies ',\n",
       " 'Productioncompany ',\n",
       " 'Recorded',\n",
       " 'Release date',\n",
       " 'Released',\n",
       " 'Running time',\n",
       " 'Screen story by',\n",
       " 'Screenplay by',\n",
       " 'Starring',\n",
       " 'Story by',\n",
       " 'Suggested by',\n",
       " 'Theme music composer',\n",
       " 'Venue',\n",
       " 'Voices of',\n",
       " 'Written by',\n",
       " 'alt_titles',\n",
       " 'imdb_link',\n",
       " 'title',\n",
       " 'url',\n",
       " 'year']"
      ]
     },
     "execution_count": 35,
     "metadata": {},
     "output_type": "execute_result"
    }
   ],
   "source": [
    "clean_movies = [clean_movie(movie) for movie in wiki_movies]\n",
    "wiki_movies_df = pd.DataFrame(clean_movies)\n",
    "sorted(wiki_movies_df.columns.tolist())"
   ]
  },
  {
   "cell_type": "code",
   "execution_count": 30,
   "id": "81820401-188f-4e8e-a8fe-c28b7492ab08",
   "metadata": {},
   "outputs": [],
   "source": [
    "#clean_movies_df = pd.DataFrame(clean_movies)"
   ]
  },
  {
   "cell_type": "code",
   "execution_count": 32,
   "id": "b06003da-73de-4d93-a5ce-9955cd9280c2",
   "metadata": {},
   "outputs": [],
   "source": [
    "#clean_movies_df.columns.to_list()"
   ]
  },
  {
   "cell_type": "code",
   "execution_count": 34,
   "id": "803c7dbc",
   "metadata": {},
   "outputs": [],
   "source": [
    "#wiki_movies_df = pd.DataFrame(clean_movies)\n",
    "#sorted(wiki_movies_df.columns.tolist())"
   ]
  },
  {
   "cell_type": "code",
   "execution_count": 20,
   "id": "b66b554c-1ffc-4d61-899e-a39be022d037",
   "metadata": {},
   "outputs": [],
   "source": [
    "movies_metadata = pd.read_csv('../Movies-ETL/Data/movies_metadata.csv', low_memory=False)\n",
    "rating = pd.read_csv('../Movies-ETL/Data/ratings.csv')"
   ]
  },
  {
   "cell_type": "code",
   "execution_count": 21,
   "id": "65550cf7-56ee-43bb-b553-e72c2a5403fb",
   "metadata": {},
   "outputs": [],
   "source": [
    "kaggle_metadata = pd.read_csv(f'{file_dir}/Data/movies_metadata.csv', low_memory=False)\n",
    "ratings = pd.read_csv(f'{file_dir}/Data/ratings.csv')"
   ]
  },
  {
   "cell_type": "code",
   "execution_count": 4,
   "id": "5ba558cf-e177-46cc-8695-bf4466ae08be",
   "metadata": {},
   "outputs": [],
   "source": [
    "#rating.head()\n",
    "#kaggle_metadata.sample(n=5)"
   ]
  },
  {
   "cell_type": "code",
   "execution_count": null,
   "id": "d574ba50-215b-4178-9e03-bc3d5f2e8cda",
   "metadata": {},
   "outputs": [],
   "source": []
  }
 ],
 "metadata": {
  "kernelspec": {
   "display_name": "Python 3 (ipykernel)",
   "language": "python",
   "name": "python3"
  },
  "language_info": {
   "codemirror_mode": {
    "name": "ipython",
    "version": 3
   },
   "file_extension": ".py",
   "mimetype": "text/x-python",
   "name": "python",
   "nbconvert_exporter": "python",
   "pygments_lexer": "ipython3",
   "version": "3.7.11"
  }
 },
 "nbformat": 4,
 "nbformat_minor": 5
}
