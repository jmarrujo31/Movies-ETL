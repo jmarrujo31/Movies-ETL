{
 "cells": [
  {
   "cell_type": "code",
   "execution_count": 74,
   "id": "5e5354b8-e080-4267-b748-aac7164785bf",
   "metadata": {},
   "outputs": [],
   "source": [
    "import json\n",
    "import pandas as pd\n",
    "import numpy as np\n",
    "import re"
   ]
  },
  {
   "cell_type": "code",
   "execution_count": 39,
   "id": "bcf219ec-f72b-41c1-a2c9-48f42110219f",
   "metadata": {},
   "outputs": [],
   "source": [
    "file_dir = '../Movies-ETL'"
   ]
  },
  {
   "cell_type": "code",
   "execution_count": 40,
   "id": "fea18146-811c-4041-a359-2f466a58733c",
   "metadata": {},
   "outputs": [
    {
     "data": {
      "text/plain": [
       "'../Movies-ETL'"
      ]
     },
     "execution_count": 40,
     "metadata": {},
     "output_type": "execute_result"
    }
   ],
   "source": [
    "f'{file_dir}'"
   ]
  },
  {
   "cell_type": "code",
   "execution_count": 41,
   "id": "b932bacc",
   "metadata": {},
   "outputs": [],
   "source": [
    "movies_metadata = pd.read_csv('../Movies-ETL/Data/movies_metadata.csv', low_memory=False)\n",
    "rating = pd.read_csv('../Movies-ETL/Data/ratings.csv')"
   ]
  },
  {
   "cell_type": "code",
   "execution_count": 42,
   "id": "ef1e05b7",
   "metadata": {},
   "outputs": [],
   "source": [
    "kaggle_metadata = pd.read_csv(f'{file_dir}/Data/movies_metadata.csv', low_memory=False)\n",
    "ratings = pd.read_csv(f'{file_dir}/Data/ratings.csv')"
   ]
  },
  {
   "cell_type": "code",
   "execution_count": 43,
   "id": "13645e1d",
   "metadata": {},
   "outputs": [],
   "source": [
    "#rating.head()\n",
    "#kaggle_metadata.sample(n=5)"
   ]
  },
  {
   "cell_type": "code",
   "execution_count": 44,
   "id": "9393d899-d56d-41dc-a72e-a0e692c4b7fd",
   "metadata": {},
   "outputs": [],
   "source": [
    "with open(f'{file_dir}/wikipedia-movies.json', mode='r') as file:\n",
    "    wiki_movies_raw = json.load(file)"
   ]
  },
  {
   "cell_type": "code",
   "execution_count": 45,
   "id": "df979882-c6ec-40c4-b326-e7694eb90e40",
   "metadata": {},
   "outputs": [
    {
     "data": {
      "text/plain": [
       "7311"
      ]
     },
     "execution_count": 45,
     "metadata": {},
     "output_type": "execute_result"
    }
   ],
   "source": [
    "len(wiki_movies_raw)"
   ]
  },
  {
   "cell_type": "code",
   "execution_count": 46,
   "id": "91ea5dd2-c198-4820-b678-c8e2a04deb93",
   "metadata": {},
   "outputs": [],
   "source": [
    "# First 5 records\n",
    "#wiki_movies_raw[:5]\n",
    "\n",
    "# Last 5 records\n",
    "#wiki_movies_raw[-5:]\n",
    "\n",
    "# Some records in the middle\n",
    "#wiki_movies_raw[3600:3605]"
   ]
  },
  {
   "cell_type": "code",
   "execution_count": 47,
   "id": "9991e854-1fcf-43d1-94bc-6f34b96f13af",
   "metadata": {},
   "outputs": [],
   "source": [
    "wiki_movies_df = pd.DataFrame(wiki_movies_raw)\n",
    "#wiki_movies_df.head(10)\n",
    "#wiki_movies_df.columns.to_list()"
   ]
  },
  {
   "cell_type": "code",
   "execution_count": 48,
   "id": "0acecde5-0370-434c-b18c-41b8879af0fd",
   "metadata": {},
   "outputs": [
    {
     "data": {
      "text/plain": [
       "7076"
      ]
     },
     "execution_count": 48,
     "metadata": {},
     "output_type": "execute_result"
    }
   ],
   "source": [
    "wiki_movies = [movie for movie in wiki_movies_raw\n",
    "               if ('Director' in movie or 'Directed by' in movie)\n",
    "                   and 'imdb_link' in movie\n",
    "                   and 'No. of episodes' not in movie]\n",
    "len(wiki_movies)"
   ]
  },
  {
   "cell_type": "code",
   "execution_count": 49,
   "id": "4afb6863-6407-47ec-9707-3a66d6a6fda3",
   "metadata": {},
   "outputs": [],
   "source": [
    "wiki_df = pd.DataFrame(wiki_movies)\n",
    "#wiki_df.head()"
   ]
  },
  {
   "cell_type": "code",
   "execution_count": 50,
   "id": "284b8d00-3885-43ed-ae08-fdce217ad100",
   "metadata": {},
   "outputs": [],
   "source": [
    "wiki_movies_clean_df = pd.DataFrame(wiki_movies)\n",
    "#wiki_movies_clean_df.columns.to_list()"
   ]
  },
  {
   "cell_type": "code",
   "execution_count": 51,
   "id": "a25ed650-65fb-445d-80f5-0b0cd6415b4b",
   "metadata": {},
   "outputs": [],
   "source": [
    "def clean_movie(movie):\n",
    "    movie = dict(movie) #create a non-destructive copy\n",
    "    alt_titles = {}\n",
    "     # combine alternate titles into one list\n",
    "    for key in ['Also known as','Arabic','Cantonese','Chinese','French',\n",
    "                'Hangul','Hebrew','Hepburn','Japanese','Literally',\n",
    "                'Mandarin','McCune–Reischauer','Original title','Polish',\n",
    "                'Revised Romanization','Romanized','Russian',\n",
    "                'Simplified','Traditional','Yiddish']:\n",
    "        if key in movie:\n",
    "            alt_titles[key] = movie[key]\n",
    "            movie.pop(key)\n",
    "    if len(alt_titles) > 0:\n",
    "        movie['alt_titles'] = alt_titles\n",
    "        \n",
    "     # merge column names\n",
    "    def change_column_name(old_name, new_name):\n",
    "        if old_name in movie:\n",
    "            movie[new_name] = movie.pop(old_name)\n",
    "    change_column_name('Adaptation by', 'Writer(s)')\n",
    "    change_column_name('Country of origin', 'Country')\n",
    "    change_column_name('Directed by', 'Director')\n",
    "    change_column_name('Distributed by', 'Distributor')\n",
    "    change_column_name('Edited by', 'Editor(s)')\n",
    "    change_column_name('Length', 'Running time')\n",
    "    change_column_name('Original release', 'Release date')\n",
    "    change_column_name('Music by', 'Composer(s)')\n",
    "    change_column_name('Produced by', 'Producer(s)')\n",
    "    change_column_name('Producer', 'Producer(s)')\n",
    "    change_column_name('Productioncompanies ', 'Production company(s)')\n",
    "    change_column_name('Productioncompany ', 'Production company(s)')\n",
    "    change_column_name('Released', 'Release Date')\n",
    "    change_column_name('Release Date', 'Release date')\n",
    "    change_column_name('Screen story by', 'Writer(s)')\n",
    "    change_column_name('Screenplay by', 'Writer(s)')\n",
    "    change_column_name('Story by', 'Writer(s)')\n",
    "    change_column_name('Theme music composer', 'Composer(s)')\n",
    "    change_column_name('Written by', 'Writer(s)')\n",
    "            \n",
    "    return movie"
   ]
  },
  {
   "cell_type": "code",
   "execution_count": 52,
   "id": "a903c955",
   "metadata": {},
   "outputs": [],
   "source": [
    "#wiki_movies_df[wiki_movies_df['Arabic'].notnull()]['url']\n",
    "#sorted(wiki_movies_df.columns.tolist())\n",
    "#wiki_movies_df"
   ]
  },
  {
   "cell_type": "code",
   "execution_count": 53,
   "id": "ed8c474d-56fe-4ce5-a0cd-00150173ed04",
   "metadata": {},
   "outputs": [
    {
     "data": {
      "text/plain": [
       "['Animation by',\n",
       " 'Audio format',\n",
       " 'Based on',\n",
       " 'Box office',\n",
       " 'Budget',\n",
       " 'Cinematography',\n",
       " 'Color process',\n",
       " 'Composer(s)',\n",
       " 'Country',\n",
       " 'Created by',\n",
       " 'Director',\n",
       " 'Distributor',\n",
       " 'Editor(s)',\n",
       " 'Executive producer(s)',\n",
       " 'Followed by',\n",
       " 'Genre',\n",
       " 'Label',\n",
       " 'Language',\n",
       " 'Narrated by',\n",
       " 'Original language(s)',\n",
       " 'Original network',\n",
       " 'Picture format',\n",
       " 'Preceded by',\n",
       " 'Producer(s)',\n",
       " 'Production company(s)',\n",
       " 'Production location(s)',\n",
       " 'Recorded',\n",
       " 'Release date',\n",
       " 'Running time',\n",
       " 'Starring',\n",
       " 'Suggested by',\n",
       " 'Venue',\n",
       " 'Voices of',\n",
       " 'Writer(s)',\n",
       " 'alt_titles',\n",
       " 'imdb_link',\n",
       " 'title',\n",
       " 'url',\n",
       " 'year']"
      ]
     },
     "execution_count": 53,
     "metadata": {},
     "output_type": "execute_result"
    }
   ],
   "source": [
    "clean_movies = [clean_movie(movie) for movie in wiki_movies]\n",
    "wiki_movies_df = pd.DataFrame(clean_movies)\n",
    "sorted(wiki_movies_df.columns.tolist())"
   ]
  },
  {
   "cell_type": "code",
   "execution_count": 54,
   "id": "81820401-188f-4e8e-a8fe-c28b7492ab08",
   "metadata": {},
   "outputs": [],
   "source": [
    "#clean_movies_df = pd.DataFrame(clean_movies)"
   ]
  },
  {
   "cell_type": "code",
   "execution_count": 55,
   "id": "b06003da-73de-4d93-a5ce-9955cd9280c2",
   "metadata": {},
   "outputs": [],
   "source": [
    "#clean_movies_df.columns.to_list()"
   ]
  },
  {
   "cell_type": "code",
   "execution_count": 56,
   "id": "da3606e3",
   "metadata": {},
   "outputs": [],
   "source": [
    "#wiki_movies_df = pd.DataFrame(clean_movies)\n",
    "#sorted(wiki_movies_df.columns.tolist())"
   ]
  },
  {
   "cell_type": "code",
   "execution_count": 58,
   "id": "ef890000",
   "metadata": {},
   "outputs": [
    {
     "name": "stdout",
     "output_type": "stream",
     "text": [
      "7033\n",
      "7033\n"
     ]
    }
   ],
   "source": [
    "wiki_movies_df['imdb_id'] = wiki_movies_df['imdb_link'].str.extract(r'(tt\\d{7})')\n",
    "print(len(wiki_movies_df))\n",
    "wiki_movies_df.drop_duplicates(subset='imdb_id', inplace=True)\n",
    "print(len(wiki_movies_df))\n",
    "#wiki_movies_df.head()"
   ]
  },
  {
   "cell_type": "code",
   "execution_count": 60,
   "id": "d574ba50-215b-4178-9e03-bc3d5f2e8cda",
   "metadata": {},
   "outputs": [
    {
     "data": {
      "text/plain": [
       "['url',\n",
       " 'year',\n",
       " 'imdb_link',\n",
       " 'title',\n",
       " 'Based on',\n",
       " 'Starring',\n",
       " 'Cinematography',\n",
       " 'Release date',\n",
       " 'Running time',\n",
       " 'Country',\n",
       " 'Language',\n",
       " 'Budget',\n",
       " 'Box office',\n",
       " 'Director',\n",
       " 'Distributor',\n",
       " 'Editor(s)',\n",
       " 'Composer(s)',\n",
       " 'Producer(s)',\n",
       " 'Production company(s)',\n",
       " 'Writer(s)',\n",
       " 'imdb_id']"
      ]
     },
     "execution_count": 60,
     "metadata": {},
     "output_type": "execute_result"
    }
   ],
   "source": [
    "#[[column,wiki_movies_df[column].isnull().sum()] for column in wiki_movies_df.columns]\n",
    "[column for column in wiki_movies_df.columns if wiki_movies_df[column].isnull().sum() < len(wiki_movies_df) * 0.9]"
   ]
  },
  {
   "cell_type": "code",
   "execution_count": 64,
   "id": "5224042d",
   "metadata": {},
   "outputs": [],
   "source": [
    "wiki_columns_to_keep = [column for column in wiki_movies_df.columns if wiki_movies_df[column].isnull().sum() < len(wiki_movies_df) * 0.9]\n",
    "wiki_movies_df = wiki_movies_df[wiki_columns_to_keep]"
   ]
  },
  {
   "cell_type": "code",
   "execution_count": 66,
   "id": "239769e2",
   "metadata": {},
   "outputs": [],
   "source": [
    "#wiki_movies_df.dtypes"
   ]
  },
  {
   "cell_type": "code",
   "execution_count": 67,
   "id": "d572ca8d",
   "metadata": {},
   "outputs": [],
   "source": [
    "box_office = wiki_movies_df['Box office'].dropna()"
   ]
  },
  {
   "cell_type": "code",
   "execution_count": 70,
   "id": "7c45b605",
   "metadata": {},
   "outputs": [
    {
     "data": {
      "text/plain": [
       "34                           [US$, 4,212,828]\n",
       "54      [$6,698,361 (, United States, ), [2]]\n",
       "74                    [$6,488,144, (US), [1]]\n",
       "126                [US$1,531,489, (domestic)]\n",
       "130                          [US$, 4,803,039]\n",
       "                        ...                  \n",
       "6980               [$99.6, million, [4], [5]]\n",
       "6994                   [$365.6, million, [1]]\n",
       "6995                         [$53.8, million]\n",
       "7015                     [$435, million, [7]]\n",
       "7048                   [$529.3, million, [4]]\n",
       "Name: Box office, Length: 135, dtype: object"
      ]
     },
     "execution_count": 70,
     "metadata": {},
     "output_type": "execute_result"
    }
   ],
   "source": [
    "def is_not_a_string(x):\n",
    "    return type(x) != str\n",
    "#box_office[box_office.map(is_not_a_string)]\n",
    "box_office[box_office.map(lambda x: type(x) != str)]"
   ]
  },
  {
   "cell_type": "code",
   "execution_count": 71,
   "id": "3d4aac22",
   "metadata": {},
   "outputs": [
    {
     "data": {
      "text/plain": [
       "'OneMississippiTwoMississippiThree'"
      ]
     },
     "execution_count": 71,
     "metadata": {},
     "output_type": "execute_result"
    }
   ],
   "source": [
    "some_list = ['One','Two','Three']\n",
    "'Mississippi'.join(some_list)"
   ]
  },
  {
   "cell_type": "code",
   "execution_count": 73,
   "id": "04767900",
   "metadata": {},
   "outputs": [
    {
     "data": {
      "text/plain": [
       "0          $21.4 million\n",
       "1           $2.7 million\n",
       "2            $57,718,089\n",
       "3             $7,331,647\n",
       "4       $6,939,946 (USA)\n",
       "              ...       \n",
       "7070       $19.4 million\n",
       "7071       $41.9 million\n",
       "7072       $76.1 million\n",
       "7073       $38.4 million\n",
       "7074        $5.5 million\n",
       "Name: Box office, Length: 5485, dtype: object"
      ]
     },
     "execution_count": 73,
     "metadata": {},
     "output_type": "execute_result"
    }
   ],
   "source": [
    "box_office = box_office.apply(lambda x: ' '.join(x) if type(x) == list else x)\n",
    "box_office"
   ]
  },
  {
   "cell_type": "code",
   "execution_count": 120,
   "id": "747a631b",
   "metadata": {},
   "outputs": [],
   "source": [
    "form_one = r'\\$\\s*\\d+\\.?\\d*\\s*[mb]illi?on'\n",
    "form_two = r'\\$\\s*\\d{1,3}(?:[,\\.]\\d{3})+(?!\\s[mb]illion)'"
   ]
  },
  {
   "cell_type": "code",
   "execution_count": 121,
   "id": "0763535f",
   "metadata": {},
   "outputs": [
    {
     "data": {
      "text/plain": [
       "3903"
      ]
     },
     "execution_count": 121,
     "metadata": {},
     "output_type": "execute_result"
    }
   ],
   "source": [
    "box_office.str.contains(form_one, flags=re.IGNORECASE, na=False).sum()"
   ]
  },
  {
   "cell_type": "code",
   "execution_count": 122,
   "id": "07440482",
   "metadata": {},
   "outputs": [
    {
     "data": {
      "text/plain": [
       "1559"
      ]
     },
     "execution_count": 122,
     "metadata": {},
     "output_type": "execute_result"
    }
   ],
   "source": [
    "box_office.str.contains(form_two, flags=re.IGNORECASE, na=False).sum()"
   ]
  },
  {
   "cell_type": "code",
   "execution_count": 123,
   "id": "7f3a2ce5",
   "metadata": {},
   "outputs": [],
   "source": [
    "matches_form_one = box_office.str.contains(form_one, flags=re.IGNORECASE, na=False)\n",
    "matches_form_two = box_office.str.contains(form_two, flags=re.IGNORECASE, na=False)"
   ]
  },
  {
   "cell_type": "code",
   "execution_count": 124,
   "id": "7dc6cf26",
   "metadata": {},
   "outputs": [
    {
     "data": {
      "text/plain": [
       "110              $4.35-4.37 million\n",
       "600                      $5000 (US)\n",
       "1070                     35,254,617\n",
       "1480                     £3 million\n",
       "1865                   ¥1.1 billion\n",
       "2032                            N/A\n",
       "2091                           $309\n",
       "2665    926,423 admissions (France)\n",
       "3088      $32 [2] –33.1 million [1]\n",
       "3631                            TBA\n",
       "3859             $38.9–40.3 million\n",
       "3879       CN¥3.650 million (China)\n",
       "4116                     £7,385,434\n",
       "4261             $20.7–23.9 million\n",
       "4306                         $20-30\n",
       "4561        $45.2k (only in Turkey)\n",
       "5447                          £2.56\n",
       "5784                       413 733$\n",
       "6013                        Unknown\n",
       "6145             $17.5–18.4 million\n",
       "6234             $41.8–41.9 million\n",
       "6369                          $111k\n",
       "6370                           $588\n",
       "6593                 less than $372\n",
       "6843                        8 crore\n",
       "Name: Box office, dtype: object"
      ]
     },
     "execution_count": 124,
     "metadata": {},
     "output_type": "execute_result"
    }
   ],
   "source": [
    "# this will throw an error!\n",
    "#box_office[(not matches_form_one) and (not matches_form_two)]\n",
    "box_office[~matches_form_one & ~matches_form_two]"
   ]
  },
  {
   "cell_type": "code",
   "execution_count": 127,
   "id": "a52d8646",
   "metadata": {},
   "outputs": [],
   "source": [
    "box_office = box_office.str.replace(r'\\$.*[-—–](?![a-z])', '$', regex=True)\n",
    "#box_office"
   ]
  },
  {
   "cell_type": "code",
   "execution_count": null,
   "id": "1e02b804",
   "metadata": {},
   "outputs": [],
   "source": []
  }
 ],
 "metadata": {
  "kernelspec": {
   "display_name": "Python 3 (ipykernel)",
   "language": "python",
   "name": "python3"
  },
  "language_info": {
   "codemirror_mode": {
    "name": "ipython",
    "version": 3
   },
   "file_extension": ".py",
   "mimetype": "text/x-python",
   "name": "python",
   "nbconvert_exporter": "python",
   "pygments_lexer": "ipython3",
   "version": "3.7.11"
  }
 },
 "nbformat": 4,
 "nbformat_minor": 5
}
